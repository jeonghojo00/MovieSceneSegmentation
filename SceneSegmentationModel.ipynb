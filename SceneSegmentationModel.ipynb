{
  "nbformat": 4,
  "nbformat_minor": 0,
  "metadata": {
    "accelerator": "GPU",
    "colab": {
      "name": "SceneSegmentationModel.ipynb",
      "provenance": [],
      "collapsed_sections": [],
      "toc_visible": true,
      "machine_shape": "hm",
      "include_colab_link": true
    },
    "kernelspec": {
      "display_name": "Python 3",
      "language": "python",
      "name": "python3"
    },
    "language_info": {
      "codemirror_mode": {
        "name": "ipython",
        "version": 3
      },
      "file_extension": ".py",
      "mimetype": "text/x-python",
      "name": "python",
      "nbconvert_exporter": "python",
      "pygments_lexer": "ipython3",
      "version": "3.8.5"
    }
  },
  "cells": [
    {
      "cell_type": "markdown",
      "metadata": {
        "id": "view-in-github",
        "colab_type": "text"
      },
      "source": [
        "<a href=\"https://colab.research.google.com/github/jeonghojo00/MovieSceneSegmentation/blob/main/SceneSegmentationModel.ipynb\" target=\"_parent\"><img src=\"https://colab.research.google.com/assets/colab-badge.svg\" alt=\"Open In Colab\"/></a>"
      ]
    },
    {
      "cell_type": "code",
      "metadata": {
        "id": "AQNlbl9YMRSI"
      },
      "source": [
        "import os\n",
        "import sys\n",
        "import glob\n",
        "import json\n",
        "import pickle\n",
        "import pandas as pd\n",
        "import collections\n",
        "\n",
        "import numpy as np\n",
        "import tensorflow as tf\n",
        "\n",
        "from tensorflow.keras import layers\n",
        "from tensorflow.keras.models import Model, Sequential\n",
        "from tensorflow.keras.layers import Flatten, BatchNormalization, Concatenate, Conv1D, Conv2D, MaxPool1D, MaxPool2D \n",
        "from tensorflow.keras.layers import Input, Dense, TimeDistributed, Activation, RepeatVector, Bidirectional, Dropout, LSTM\n",
        "from tensorflow.keras.optimizers import Adam, RMSprop\n",
        "from tensorflow.keras.metrics import Accuracy\n",
        "from tensorflow.keras.losses import sparse_categorical_crossentropy\n"
      ],
      "execution_count": null,
      "outputs": []
    },
    {
      "cell_type": "code",
      "metadata": {
        "id": "fzZIDHeAMRSN"
      },
      "source": [
        "#pip install git+https://github.com/keras-team/autokeras.git@master\n",
        "#pip install git+https://github.com/keras-team/keras-tuner.git@master\n",
        "#pip install tensorflow==2.2.0"
      ],
      "execution_count": null,
      "outputs": []
    },
    {
      "cell_type": "markdown",
      "metadata": {
        "id": "9meIR8SLMRSO"
      },
      "source": [
        "# Import dataset and make dictionaries"
      ]
    },
    {
      "cell_type": "code",
      "metadata": {
        "colab": {
          "base_uri": "https://localhost:8080/"
        },
        "id": "jZ7lQdmiMaTE",
        "outputId": "65e193ea-aaa8-4061-d764-40c5059901b6"
      },
      "source": [
        "from google.colab import drive\n",
        "drive.mount('/content/drive')"
      ],
      "execution_count": null,
      "outputs": [
        {
          "output_type": "stream",
          "text": [
            "Mounted at /content/drive\n"
          ],
          "name": "stdout"
        }
      ]
    },
    {
      "cell_type": "code",
      "metadata": {
        "colab": {
          "base_uri": "https://localhost:8080/"
        },
        "id": "xD3xlEdvMn7K",
        "outputId": "5d58902c-78e4-452f-d665-06cfdc646999"
      },
      "source": [
        "data_dir = \"/content/drive/My Drive/Colab Notebooks/SceneSegmentation/data_dir/\"\n",
        "filenames = glob.glob(os.path.join(data_dir, \"tt*.pkl\"))\n",
        "print(\"# of IMDB IDs:\", len(filenames))"
      ],
      "execution_count": null,
      "outputs": [
        {
          "output_type": "stream",
          "text": [
            "# of IMDB IDs: 64\n"
          ],
          "name": "stdout"
        }
      ]
    },
    {
      "cell_type": "code",
      "metadata": {
        "id": "KuDWp_cmMRSP"
      },
      "source": [
        "from sklearn import preprocessing\n",
        "\n",
        "place_dict = dict()\n",
        "cast_dict = dict()\n",
        "action_dict = dict()\n",
        "audio_dict = dict()\n",
        "gt_dict = dict()\n",
        "gtv_dict = dict() # transformed gt_dict {True: 1.0, False:0.0}\n",
        "pr_dict = dict()\n",
        "shot_to_end_frame_dict = dict()\n",
        "\n",
        "for fn in filenames:\n",
        "    x = pickle.load(open(fn, \"rb\"))\n",
        "    place_dict[x[\"imdb_id\"]] = x[\"place\"].numpy()\n",
        "    cast_dict[x[\"imdb_id\"]] = x[\"cast\"].numpy()\n",
        "    action_dict[x[\"imdb_id\"]] = x[\"action\"].numpy()\n",
        "    audio_dict[x[\"imdb_id\"]] = x[\"audio\"].numpy()\n",
        "    gt_dict[x[\"imdb_id\"]] = x[\"scene_transition_boundary_ground_truth\"].numpy()\n",
        "    gtData = x[\"scene_transition_boundary_ground_truth\"].numpy()\n",
        "    gtData = np.where(gtData==True, 1.0, 0.0)\n",
        "    gtv_dict[x[\"imdb_id\"]] = gtData\n",
        "    pr_dict[x[\"imdb_id\"]] = x[\"scene_transition_boundary_prediction\"].numpy() \n",
        "    shot_to_end_frame_dict[x[\"imdb_id\"]] = x[\"shot_end_frame\"].numpy()"
      ],
      "execution_count": null,
      "outputs": []
    },
    {
      "cell_type": "code",
      "metadata": {
        "id": "BmCNwK43MRSP"
      },
      "source": [
        "'''\n",
        "Calculate a maximum number of shots among movies\n",
        "Input: dataset : Dictionary\n",
        "Output: maximum number of shots(rows) of movies : Int\n",
        "'''\n",
        "def max_shot_num(data):\n",
        "    max_num = 0\n",
        "    for movie in data.keys():\n",
        "        if max_num < len(data[movie]):\n",
        "            max_num = len(data[movie])\n",
        "    \n",
        "    return max_num"
      ],
      "execution_count": null,
      "outputs": []
    },
    {
      "cell_type": "markdown",
      "metadata": {
        "id": "K0Mu-ajRMRSP"
      },
      "source": [
        "# Make Train and Test sets"
      ]
    },
    {
      "cell_type": "code",
      "metadata": {
        "id": "7WXhxGksMRSQ"
      },
      "source": [
        "def split_train_test_input(data, ratio=0.8):\n",
        "    numMovies = len(data)\n",
        "    numTrain = round(numMovies*ratio)\n",
        "    numMaxShots = max_shot_num(data)\n",
        "    numDims = len(data[str(list(data.keys())[0])][0])\n",
        "        \n",
        "    count = 0\n",
        "\n",
        "    for movie in data.keys():\n",
        "        if len(data[movie]) < numMaxShots:\n",
        "            dim_empty_rows = (1, numMaxShots-len(data[movie]), numDims)\n",
        "            empty_rows = np.zeros(dim_empty_rows)\n",
        "            if count == 0:\n",
        "                dataBase = np.array(data[movie], ndmin=3)\n",
        "                dataBase = np.concatenate((dataBase, empty_rows), axis=1)\n",
        "            else:\n",
        "                addData = np.array(data[movie], ndmin=3)\n",
        "                addData = np.concatenate((addData, empty_rows), axis=1)\n",
        "                dataBase = np.concatenate((dataBase, addData))\n",
        "        else:\n",
        "            if count == 0:\n",
        "                dataBase = np.array(data[movie], ndmin=3)\n",
        "            else:\n",
        "                addData = np.array(data[movie], ndmin=3)\n",
        "                dataBase = np.concatenate((dataBase, addData))\n",
        "        count += 1\n",
        "        \n",
        "    trainDataBase = dataBase[:numTrain,:,:]\n",
        "    testDataBase = dataBase[numTrain:,:,:]\n",
        "    \n",
        "    return trainDataBase, testDataBase\n",
        "    \n",
        "     "
      ],
      "execution_count": null,
      "outputs": []
    },
    {
      "cell_type": "code",
      "metadata": {
        "id": "Kc5qZH7FMRSQ"
      },
      "source": [
        "placeTrain, placeTest = split_train_test_input(place_dict)\n",
        "castTrain, castTest = split_train_test_input(cast_dict)\n",
        "actionTrain, actionTest = split_train_test_input(action_dict)\n",
        "audioTrain, audioTest = split_train_test_input(audio_dict)"
      ],
      "execution_count": null,
      "outputs": []
    },
    {
      "cell_type": "code",
      "metadata": {
        "id": "N-2nhFcWMRSQ"
      },
      "source": [
        "def split_train_test_output(data, ratio=0.8):\n",
        "    numMovies = len(data)\n",
        "    numTrain = round(numMovies*ratio)\n",
        "    numMaxShots = max_shot_num(data)+1\n",
        "    numDims = 1\n",
        "        \n",
        "    count = 0\n",
        "\n",
        "    for movie in data.keys():\n",
        "        if len(data[movie]) < numMaxShots:\n",
        "            dim_empty_rows = (1, numMaxShots-len(data[movie]))\n",
        "            empty_rows = np.zeros(dim_empty_rows)\n",
        "            if count == 0:\n",
        "                dataBase = np.array(data[movie], ndmin=2)\n",
        "                dataBase = np.concatenate((dataBase, empty_rows), axis=1)\n",
        "            else:\n",
        "                addData = np.array(data[movie], ndmin=2)\n",
        "                addData = np.concatenate((addData, empty_rows), axis=1)\n",
        "                dataBase = np.concatenate((dataBase, addData))\n",
        "        else:\n",
        "            if count == 0:\n",
        "                dataBase = np.array(data[movie], ndmin=2)\n",
        "            else:\n",
        "                addData = np.array(data[movie], ndmin=2)\n",
        "                dataBase = np.concatenate((dataBase, addData))\n",
        "        count += 1\n",
        "        \n",
        "    trainDataBase = dataBase[:numTrain]\n",
        "    testDataBase = dataBase[numTrain:]\n",
        "    \n",
        "    return trainDataBase, testDataBase\n",
        "    "
      ],
      "execution_count": null,
      "outputs": []
    },
    {
      "cell_type": "code",
      "metadata": {
        "id": "8hok3vabMRSR"
      },
      "source": [
        "gtTrain, gtTest = split_train_test_output(gtv_dict)\n",
        "prTrain, prTest = split_train_test_output(pr_dict)"
      ],
      "execution_count": null,
      "outputs": []
    },
    {
      "cell_type": "markdown",
      "metadata": {
        "id": "LzQWOso4MRSR"
      },
      "source": [
        "# Scene Segmentation model"
      ]
    },
    {
      "cell_type": "code",
      "metadata": {
        "id": "s03d2fjRMRSR"
      },
      "source": [
        "def ssmodel(input1, input2, input3, input4):\n",
        "    kernel_size = 4\n",
        "\n",
        "    cnn1 = Sequential()\n",
        "    cnn1.add(Conv1D(512, kernel_size=kernel_size, padding='same', activation='relu' ,input_shape=input1[1:]))\n",
        "    cnn1.add(BatchNormalization())\n",
        "    cnn1.add(Conv1D(128, kernel_size=kernel_size, padding='same', activation='relu'))\n",
        "    cnn1.add(BatchNormalization())\n",
        "    cnn1.add(Conv1D(32, kernel_size=kernel_size, padding='same', activation='relu'))\n",
        "    cnn1.add(BatchNormalization())\n",
        "    cnn1.add(Conv1D(1, kernel_size=kernel_size, padding='same', activation='relu'))\n",
        "    cnn1.add(BatchNormalization())\n",
        "\n",
        "    cnn2 = Sequential()\n",
        "    cnn2.add(Conv1D(128, kernel_size=kernel_size, padding='same', activation='relu' ,input_shape=input2[1:]))\n",
        "    cnn2.add(BatchNormalization())\n",
        "    cnn2.add(Conv1D(32, kernel_size=kernel_size, padding='same', activation='relu'))\n",
        "    cnn2.add(BatchNormalization())\n",
        "    cnn2.add(Conv1D(1, kernel_size=kernel_size, padding='same', activation='relu'))\n",
        "    cnn2.add(BatchNormalization())\n",
        "\n",
        "    cnn3 = Sequential()\n",
        "    cnn3.add(Conv1D(128, kernel_size=kernel_size, padding='same', activation='relu' ,input_shape=input3[1:]))\n",
        "    cnn3.add(BatchNormalization())\n",
        "    cnn3.add(Conv1D(32, kernel_size=kernel_size, padding='same', activation='relu'))\n",
        "    cnn3.add(BatchNormalization())\n",
        "    cnn3.add(Conv1D(1, kernel_size=kernel_size, padding='same', activation='relu'))\n",
        "    cnn3.add(BatchNormalization())\n",
        "\n",
        "    cnn4 = Sequential()\n",
        "    cnn4.add(Conv1D(128, kernel_size=kernel_size, padding='same', activation='relu' ,input_shape=input4[1:]))\n",
        "    cnn4.add(BatchNormalization())\n",
        "    cnn4.add(Conv1D(32, kernel_size=kernel_size, padding='same', activation='relu'))\n",
        "    cnn4.add(BatchNormalization())\n",
        "    cnn4.add(Conv1D(1, kernel_size=kernel_size, padding='same', activation='relu'))\n",
        "    cnn4.add(BatchNormalization())\n",
        "\n",
        "\n",
        "    merged = Concatenate()([cnn1.output, cnn2.output, cnn3.output, cnn4.output])\n",
        "    merged = TimeDistributed(Dense(4))(merged)\n",
        "    merged = Bidirectional(LSTM(4, return_sequences=True))(merged)\n",
        "    merged = Dense(1, activation='sigmoid')(merged)\n",
        "\n",
        "    model = Model(\n",
        "        inputs=[\n",
        "            cnn1.input, \n",
        "            cnn2.input, \n",
        "            cnn3.input, \n",
        "            cnn4.input\n",
        "        ], \n",
        "        outputs=merged\n",
        "    \n",
        "    )\n",
        "    tf.keras.metrics.BinaryAccuracy(name=\"binary_accuracy\", dtype=None, threshold=0.5)\n",
        "    model.compile(loss='binary_crossentropy', \n",
        "                      optimizer=Adam(learning_rate=0.001),\n",
        "                      metrics=[tf.keras.metrics.BinaryAccuracy()])\n",
        "    \n",
        "    return model\n",
        "    \n",
        "    \n",
        "    "
      ],
      "execution_count": null,
      "outputs": []
    },
    {
      "cell_type": "markdown",
      "metadata": {
        "id": "r6soKdzQMRSU"
      },
      "source": [
        "# Fit and Predict values"
      ]
    },
    {
      "cell_type": "code",
      "metadata": {
        "id": "1zN_w06DMRSW"
      },
      "source": [
        "modelSS = ssmodel(placeTrain.shape, castTrain.shape, actionTrain.shape, audioTrain.shape)"
      ],
      "execution_count": null,
      "outputs": []
    },
    {
      "cell_type": "code",
      "metadata": {
        "id": "ltlFtk3AMRSW",
        "colab": {
          "base_uri": "https://localhost:8080/"
        },
        "outputId": "1333476b-0a30-4c44-f06a-a14b46524e70"
      },
      "source": [
        "numPredict = 2\n",
        "\n",
        "history = modelSS.fit(\n",
        "    [\n",
        "        placeTrain,\n",
        "        castTrain,\n",
        "        actionTrain,\n",
        "        audioTrain\n",
        "    ],\n",
        "    gtTrain,\n",
        "    epochs = 100,\n",
        "    validation_data=(\n",
        "        [\n",
        "            placeTest[:-numPredict],\n",
        "            castTest[:-numPredict],\n",
        "            actionTest[:-numPredict],\n",
        "            audioTest[:-numPredict]\n",
        "        ],\n",
        "        gtTest[:-numPredict]\n",
        "    )\n",
        ")\n",
        "\n",
        "\n"
      ],
      "execution_count": null,
      "outputs": [
        {
          "output_type": "stream",
          "text": [
            "Epoch 1/100\n",
            "2/2 [==============================] - 25s 3s/step - loss: 0.6564 - binary_accuracy: 0.6983 - val_loss: 0.5906 - val_binary_accuracy: 0.9354\n",
            "Epoch 2/100\n",
            "2/2 [==============================] - 2s 970ms/step - loss: 0.6059 - binary_accuracy: 0.8926 - val_loss: 0.6659 - val_binary_accuracy: 0.8345\n",
            "Epoch 3/100\n",
            "2/2 [==============================] - 2s 1s/step - loss: 0.5926 - binary_accuracy: 0.9263 - val_loss: 0.6776 - val_binary_accuracy: 0.8035\n",
            "Epoch 4/100\n",
            "2/2 [==============================] - 2s 975ms/step - loss: 0.5827 - binary_accuracy: 0.9365 - val_loss: 0.6717 - val_binary_accuracy: 0.8155\n",
            "Epoch 5/100\n",
            "2/2 [==============================] - 2s 1s/step - loss: 0.5738 - binary_accuracy: 0.9479 - val_loss: 0.6583 - val_binary_accuracy: 0.8483\n",
            "Epoch 6/100\n",
            "2/2 [==============================] - 2s 998ms/step - loss: 0.5662 - binary_accuracy: 0.9522 - val_loss: 0.6334 - val_binary_accuracy: 0.8879\n",
            "Epoch 7/100\n",
            "2/2 [==============================] - 2s 1s/step - loss: 0.5589 - binary_accuracy: 0.9546 - val_loss: 0.6020 - val_binary_accuracy: 0.9149\n",
            "Epoch 8/100\n",
            "2/2 [==============================] - 2s 1s/step - loss: 0.5523 - binary_accuracy: 0.9548 - val_loss: 0.5825 - val_binary_accuracy: 0.9237\n",
            "Epoch 9/100\n",
            "2/2 [==============================] - 2s 1s/step - loss: 0.5453 - binary_accuracy: 0.9557 - val_loss: 0.5680 - val_binary_accuracy: 0.9294\n",
            "Epoch 10/100\n",
            "2/2 [==============================] - 2s 1s/step - loss: 0.5373 - binary_accuracy: 0.9587 - val_loss: 0.5585 - val_binary_accuracy: 0.9331\n",
            "Epoch 11/100\n",
            "2/2 [==============================] - 2s 1s/step - loss: 0.5321 - binary_accuracy: 0.9571 - val_loss: 0.5486 - val_binary_accuracy: 0.9364\n",
            "Epoch 12/100\n",
            "2/2 [==============================] - 2s 1s/step - loss: 0.5253 - binary_accuracy: 0.9577 - val_loss: 0.5400 - val_binary_accuracy: 0.9385\n",
            "Epoch 13/100\n",
            "2/2 [==============================] - 2s 1s/step - loss: 0.5171 - binary_accuracy: 0.9601 - val_loss: 0.5315 - val_binary_accuracy: 0.9397\n",
            "Epoch 14/100\n",
            "2/2 [==============================] - 2s 1s/step - loss: 0.5102 - binary_accuracy: 0.9584 - val_loss: 0.5228 - val_binary_accuracy: 0.9415\n",
            "Epoch 15/100\n",
            "2/2 [==============================] - 2s 988ms/step - loss: 0.5042 - binary_accuracy: 0.9581 - val_loss: 0.5159 - val_binary_accuracy: 0.9422\n",
            "Epoch 16/100\n",
            "2/2 [==============================] - 2s 1s/step - loss: 0.4962 - binary_accuracy: 0.9610 - val_loss: 0.5102 - val_binary_accuracy: 0.9429\n",
            "Epoch 17/100\n",
            "2/2 [==============================] - 2s 1s/step - loss: 0.4911 - binary_accuracy: 0.9578 - val_loss: 0.5054 - val_binary_accuracy: 0.9438\n",
            "Epoch 18/100\n",
            "2/2 [==============================] - 2s 998ms/step - loss: 0.4832 - binary_accuracy: 0.9587 - val_loss: 0.5007 - val_binary_accuracy: 0.9442\n",
            "Epoch 19/100\n",
            "2/2 [==============================] - 2s 1s/step - loss: 0.4767 - binary_accuracy: 0.9595 - val_loss: 0.4947 - val_binary_accuracy: 0.9450\n",
            "Epoch 20/100\n",
            "2/2 [==============================] - 2s 1s/step - loss: 0.4693 - binary_accuracy: 0.9600 - val_loss: 0.4891 - val_binary_accuracy: 0.9457\n",
            "Epoch 21/100\n",
            "2/2 [==============================] - 2s 1s/step - loss: 0.4636 - binary_accuracy: 0.9591 - val_loss: 0.4867 - val_binary_accuracy: 0.9461\n",
            "Epoch 22/100\n",
            "2/2 [==============================] - 2s 1s/step - loss: 0.4572 - binary_accuracy: 0.9599 - val_loss: 0.4833 - val_binary_accuracy: 0.9464\n",
            "Epoch 23/100\n",
            "2/2 [==============================] - 2s 996ms/step - loss: 0.4515 - binary_accuracy: 0.9596 - val_loss: 0.4774 - val_binary_accuracy: 0.9468\n",
            "Epoch 24/100\n",
            "2/2 [==============================] - 2s 955ms/step - loss: 0.4451 - binary_accuracy: 0.9592 - val_loss: 0.4709 - val_binary_accuracy: 0.9474\n",
            "Epoch 25/100\n",
            "2/2 [==============================] - 2s 1s/step - loss: 0.4390 - binary_accuracy: 0.9599 - val_loss: 0.4666 - val_binary_accuracy: 0.9478\n",
            "Epoch 26/100\n",
            "2/2 [==============================] - 2s 995ms/step - loss: 0.4331 - binary_accuracy: 0.9608 - val_loss: 0.4623 - val_binary_accuracy: 0.9482\n",
            "Epoch 27/100\n",
            "2/2 [==============================] - 2s 999ms/step - loss: 0.4268 - binary_accuracy: 0.9608 - val_loss: 0.4582 - val_binary_accuracy: 0.9486\n",
            "Epoch 28/100\n",
            "2/2 [==============================] - 2s 999ms/step - loss: 0.4217 - binary_accuracy: 0.9609 - val_loss: 0.4546 - val_binary_accuracy: 0.9489\n",
            "Epoch 29/100\n",
            "2/2 [==============================] - 2s 1s/step - loss: 0.4172 - binary_accuracy: 0.9598 - val_loss: 0.4510 - val_binary_accuracy: 0.9490\n",
            "Epoch 30/100\n",
            "2/2 [==============================] - 2s 998ms/step - loss: 0.4103 - binary_accuracy: 0.9612 - val_loss: 0.4477 - val_binary_accuracy: 0.9493\n",
            "Epoch 31/100\n",
            "2/2 [==============================] - 2s 995ms/step - loss: 0.4064 - binary_accuracy: 0.9604 - val_loss: 0.4450 - val_binary_accuracy: 0.9493\n",
            "Epoch 32/100\n",
            "2/2 [==============================] - 2s 1s/step - loss: 0.4006 - binary_accuracy: 0.9609 - val_loss: 0.4428 - val_binary_accuracy: 0.9496\n",
            "Epoch 33/100\n",
            "2/2 [==============================] - 2s 944ms/step - loss: 0.3957 - binary_accuracy: 0.9616 - val_loss: 0.4402 - val_binary_accuracy: 0.9497\n",
            "Epoch 34/100\n",
            "2/2 [==============================] - 2s 970ms/step - loss: 0.3906 - binary_accuracy: 0.9603 - val_loss: 0.4380 - val_binary_accuracy: 0.9498\n",
            "Epoch 35/100\n",
            "2/2 [==============================] - 2s 1s/step - loss: 0.3856 - binary_accuracy: 0.9606 - val_loss: 0.4363 - val_binary_accuracy: 0.9500\n",
            "Epoch 36/100\n",
            "2/2 [==============================] - 2s 1s/step - loss: 0.3811 - binary_accuracy: 0.9603 - val_loss: 0.4335 - val_binary_accuracy: 0.9501\n",
            "Epoch 37/100\n",
            "2/2 [==============================] - 2s 986ms/step - loss: 0.3777 - binary_accuracy: 0.9611 - val_loss: 0.4309 - val_binary_accuracy: 0.9502\n",
            "Epoch 38/100\n",
            "2/2 [==============================] - 2s 1s/step - loss: 0.3727 - binary_accuracy: 0.9594 - val_loss: 0.4290 - val_binary_accuracy: 0.9503\n",
            "Epoch 39/100\n",
            "2/2 [==============================] - 2s 1s/step - loss: 0.3679 - binary_accuracy: 0.9616 - val_loss: 0.4270 - val_binary_accuracy: 0.9504\n",
            "Epoch 40/100\n",
            "2/2 [==============================] - 2s 1s/step - loss: 0.3623 - binary_accuracy: 0.9616 - val_loss: 0.4254 - val_binary_accuracy: 0.9504\n",
            "Epoch 41/100\n",
            "2/2 [==============================] - 2s 978ms/step - loss: 0.3586 - binary_accuracy: 0.9615 - val_loss: 0.4231 - val_binary_accuracy: 0.9506\n",
            "Epoch 42/100\n",
            "2/2 [==============================] - 2s 975ms/step - loss: 0.3553 - binary_accuracy: 0.9618 - val_loss: 0.4187 - val_binary_accuracy: 0.9509\n",
            "Epoch 43/100\n",
            "2/2 [==============================] - 2s 1s/step - loss: 0.3511 - binary_accuracy: 0.9622 - val_loss: 0.4139 - val_binary_accuracy: 0.9512\n",
            "Epoch 44/100\n",
            "2/2 [==============================] - 2s 1s/step - loss: 0.3463 - binary_accuracy: 0.9615 - val_loss: 0.4127 - val_binary_accuracy: 0.9511\n",
            "Epoch 45/100\n",
            "2/2 [==============================] - 2s 980ms/step - loss: 0.3439 - binary_accuracy: 0.9608 - val_loss: 0.4071 - val_binary_accuracy: 0.9512\n",
            "Epoch 46/100\n",
            "2/2 [==============================] - 2s 1s/step - loss: 0.3393 - binary_accuracy: 0.9619 - val_loss: 0.3950 - val_binary_accuracy: 0.9513\n",
            "Epoch 47/100\n",
            "2/2 [==============================] - 2s 1s/step - loss: 0.3352 - binary_accuracy: 0.9612 - val_loss: 0.3872 - val_binary_accuracy: 0.9514\n",
            "Epoch 48/100\n",
            "2/2 [==============================] - 2s 1s/step - loss: 0.3318 - binary_accuracy: 0.9614 - val_loss: 0.3790 - val_binary_accuracy: 0.9514\n",
            "Epoch 49/100\n",
            "2/2 [==============================] - 2s 1s/step - loss: 0.3295 - binary_accuracy: 0.9615 - val_loss: 0.3699 - val_binary_accuracy: 0.9514\n",
            "Epoch 50/100\n",
            "2/2 [==============================] - 2s 961ms/step - loss: 0.3255 - binary_accuracy: 0.9608 - val_loss: 0.3668 - val_binary_accuracy: 0.9515\n",
            "Epoch 51/100\n",
            "2/2 [==============================] - 2s 1s/step - loss: 0.3225 - binary_accuracy: 0.9621 - val_loss: 0.3576 - val_binary_accuracy: 0.9514\n",
            "Epoch 52/100\n",
            "2/2 [==============================] - 2s 1s/step - loss: 0.3193 - binary_accuracy: 0.9613 - val_loss: 0.3549 - val_binary_accuracy: 0.9514\n",
            "Epoch 53/100\n",
            "2/2 [==============================] - 2s 1s/step - loss: 0.3162 - binary_accuracy: 0.9608 - val_loss: 0.3497 - val_binary_accuracy: 0.9514\n",
            "Epoch 54/100\n",
            "2/2 [==============================] - 2s 976ms/step - loss: 0.3129 - binary_accuracy: 0.9620 - val_loss: 0.3468 - val_binary_accuracy: 0.9514\n",
            "Epoch 55/100\n",
            "2/2 [==============================] - 2s 1s/step - loss: 0.3083 - binary_accuracy: 0.9623 - val_loss: 0.3441 - val_binary_accuracy: 0.9514\n",
            "Epoch 56/100\n",
            "2/2 [==============================] - 2s 969ms/step - loss: 0.3062 - binary_accuracy: 0.9613 - val_loss: 0.3410 - val_binary_accuracy: 0.9514\n",
            "Epoch 57/100\n",
            "2/2 [==============================] - 2s 1s/step - loss: 0.3016 - binary_accuracy: 0.9631 - val_loss: 0.3386 - val_binary_accuracy: 0.9514\n",
            "Epoch 58/100\n",
            "2/2 [==============================] - 2s 1s/step - loss: 0.2997 - binary_accuracy: 0.9623 - val_loss: 0.3348 - val_binary_accuracy: 0.9514\n",
            "Epoch 59/100\n",
            "2/2 [==============================] - 2s 1s/step - loss: 0.2961 - binary_accuracy: 0.9623 - val_loss: 0.3329 - val_binary_accuracy: 0.9514\n",
            "Epoch 60/100\n",
            "2/2 [==============================] - 2s 1s/step - loss: 0.2925 - binary_accuracy: 0.9624 - val_loss: 0.3305 - val_binary_accuracy: 0.9514\n",
            "Epoch 61/100\n",
            "2/2 [==============================] - 2s 982ms/step - loss: 0.2893 - binary_accuracy: 0.9635 - val_loss: 0.3281 - val_binary_accuracy: 0.9514\n",
            "Epoch 62/100\n",
            "2/2 [==============================] - 2s 1s/step - loss: 0.2864 - binary_accuracy: 0.9653 - val_loss: 0.3253 - val_binary_accuracy: 0.9514\n",
            "Epoch 63/100\n",
            "2/2 [==============================] - 2s 1s/step - loss: 0.2854 - binary_accuracy: 0.9646 - val_loss: 0.3228 - val_binary_accuracy: 0.9514\n",
            "Epoch 64/100\n",
            "2/2 [==============================] - 2s 997ms/step - loss: 0.2823 - binary_accuracy: 0.9633 - val_loss: 0.3203 - val_binary_accuracy: 0.9514\n",
            "Epoch 65/100\n",
            "2/2 [==============================] - 2s 981ms/step - loss: 0.2782 - binary_accuracy: 0.9629 - val_loss: 0.3188 - val_binary_accuracy: 0.9514\n",
            "Epoch 66/100\n",
            "2/2 [==============================] - 2s 992ms/step - loss: 0.2752 - binary_accuracy: 0.9648 - val_loss: 0.3186 - val_binary_accuracy: 0.9514\n",
            "Epoch 67/100\n",
            "2/2 [==============================] - 2s 998ms/step - loss: 0.2730 - binary_accuracy: 0.9659 - val_loss: 0.3182 - val_binary_accuracy: 0.9514\n",
            "Epoch 68/100\n",
            "2/2 [==============================] - 2s 1s/step - loss: 0.2703 - binary_accuracy: 0.9647 - val_loss: 0.3164 - val_binary_accuracy: 0.9514\n",
            "Epoch 69/100\n",
            "2/2 [==============================] - 2s 1s/step - loss: 0.2668 - binary_accuracy: 0.9649 - val_loss: 0.3137 - val_binary_accuracy: 0.9514\n",
            "Epoch 70/100\n",
            "2/2 [==============================] - 2s 1s/step - loss: 0.2653 - binary_accuracy: 0.9633 - val_loss: 0.3145 - val_binary_accuracy: 0.9514\n",
            "Epoch 71/100\n",
            "2/2 [==============================] - 2s 1s/step - loss: 0.2643 - binary_accuracy: 0.9658 - val_loss: 0.3279 - val_binary_accuracy: 0.9514\n",
            "Epoch 72/100\n",
            "2/2 [==============================] - 2s 1s/step - loss: 0.2605 - binary_accuracy: 0.9651 - val_loss: 0.3313 - val_binary_accuracy: 0.9514\n",
            "Epoch 73/100\n",
            "2/2 [==============================] - 2s 999ms/step - loss: 0.2589 - binary_accuracy: 0.9645 - val_loss: 0.3063 - val_binary_accuracy: 0.9514\n",
            "Epoch 74/100\n",
            "2/2 [==============================] - 2s 1s/step - loss: 0.2552 - binary_accuracy: 0.9650 - val_loss: 0.3017 - val_binary_accuracy: 0.9514\n",
            "Epoch 75/100\n",
            "2/2 [==============================] - 2s 1s/step - loss: 0.2523 - binary_accuracy: 0.9663 - val_loss: 0.3034 - val_binary_accuracy: 0.9514\n",
            "Epoch 76/100\n",
            "2/2 [==============================] - 2s 985ms/step - loss: 0.2488 - binary_accuracy: 0.9684 - val_loss: 0.3081 - val_binary_accuracy: 0.9514\n",
            "Epoch 77/100\n",
            "2/2 [==============================] - 2s 1s/step - loss: 0.2456 - binary_accuracy: 0.9683 - val_loss: 0.3125 - val_binary_accuracy: 0.9514\n",
            "Epoch 78/100\n",
            "2/2 [==============================] - 2s 979ms/step - loss: 0.2440 - binary_accuracy: 0.9672 - val_loss: 0.3129 - val_binary_accuracy: 0.9515\n",
            "Epoch 79/100\n",
            "2/2 [==============================] - 2s 1s/step - loss: 0.2403 - binary_accuracy: 0.9693 - val_loss: 0.3139 - val_binary_accuracy: 0.9514\n",
            "Epoch 80/100\n",
            "2/2 [==============================] - 2s 1s/step - loss: 0.2397 - binary_accuracy: 0.9686 - val_loss: 0.3178 - val_binary_accuracy: 0.9514\n",
            "Epoch 81/100\n",
            "2/2 [==============================] - 2s 1s/step - loss: 0.2374 - binary_accuracy: 0.9686 - val_loss: 0.3158 - val_binary_accuracy: 0.9514\n",
            "Epoch 82/100\n",
            "2/2 [==============================] - 2s 1s/step - loss: 0.2339 - binary_accuracy: 0.9699 - val_loss: 0.3176 - val_binary_accuracy: 0.9515\n",
            "Epoch 83/100\n",
            "2/2 [==============================] - 2s 1s/step - loss: 0.2329 - binary_accuracy: 0.9703 - val_loss: 0.3143 - val_binary_accuracy: 0.9514\n",
            "Epoch 84/100\n",
            "2/2 [==============================] - 2s 1s/step - loss: 0.2310 - binary_accuracy: 0.9702 - val_loss: 0.3183 - val_binary_accuracy: 0.9515\n",
            "Epoch 85/100\n",
            "2/2 [==============================] - 2s 996ms/step - loss: 0.2268 - binary_accuracy: 0.9719 - val_loss: 0.3382 - val_binary_accuracy: 0.9509\n",
            "Epoch 86/100\n",
            "2/2 [==============================] - 2s 996ms/step - loss: 0.2251 - binary_accuracy: 0.9718 - val_loss: 0.3635 - val_binary_accuracy: 0.9485\n",
            "Epoch 87/100\n",
            "2/2 [==============================] - 2s 1s/step - loss: 0.2211 - binary_accuracy: 0.9744 - val_loss: 0.3497 - val_binary_accuracy: 0.9515\n",
            "Epoch 88/100\n",
            "2/2 [==============================] - 2s 1s/step - loss: 0.2183 - binary_accuracy: 0.9746 - val_loss: 0.3677 - val_binary_accuracy: 0.9500\n",
            "Epoch 89/100\n",
            "2/2 [==============================] - 2s 994ms/step - loss: 0.2167 - binary_accuracy: 0.9743 - val_loss: 0.3448 - val_binary_accuracy: 0.9517\n",
            "Epoch 90/100\n",
            "2/2 [==============================] - 2s 1s/step - loss: 0.2139 - binary_accuracy: 0.9749 - val_loss: 0.3346 - val_binary_accuracy: 0.9516\n",
            "Epoch 91/100\n",
            "2/2 [==============================] - 2s 1s/step - loss: 0.2107 - binary_accuracy: 0.9758 - val_loss: 0.3424 - val_binary_accuracy: 0.9519\n",
            "Epoch 92/100\n",
            "2/2 [==============================] - 2s 964ms/step - loss: 0.2086 - binary_accuracy: 0.9760 - val_loss: 0.3359 - val_binary_accuracy: 0.9515\n",
            "Epoch 93/100\n",
            "2/2 [==============================] - 2s 1s/step - loss: 0.2051 - binary_accuracy: 0.9780 - val_loss: 0.3617 - val_binary_accuracy: 0.9446\n",
            "Epoch 94/100\n",
            "2/2 [==============================] - 2s 1s/step - loss: 0.2033 - binary_accuracy: 0.9785 - val_loss: 0.3476 - val_binary_accuracy: 0.9509\n",
            "Epoch 95/100\n",
            "2/2 [==============================] - 2s 1s/step - loss: 0.2004 - binary_accuracy: 0.9786 - val_loss: 0.3573 - val_binary_accuracy: 0.9471\n",
            "Epoch 96/100\n",
            "2/2 [==============================] - 2s 994ms/step - loss: 0.1979 - binary_accuracy: 0.9796 - val_loss: 0.3228 - val_binary_accuracy: 0.9515\n",
            "Epoch 97/100\n",
            "2/2 [==============================] - 2s 999ms/step - loss: 0.1954 - binary_accuracy: 0.9808 - val_loss: 0.3157 - val_binary_accuracy: 0.9514\n",
            "Epoch 98/100\n",
            "2/2 [==============================] - 2s 1s/step - loss: 0.1920 - binary_accuracy: 0.9824 - val_loss: 0.3176 - val_binary_accuracy: 0.9515\n",
            "Epoch 99/100\n",
            "2/2 [==============================] - 2s 954ms/step - loss: 0.1905 - binary_accuracy: 0.9829 - val_loss: 0.3178 - val_binary_accuracy: 0.9516\n",
            "Epoch 100/100\n",
            "2/2 [==============================] - 2s 937ms/step - loss: 0.1877 - binary_accuracy: 0.9831 - val_loss: 0.3053 - val_binary_accuracy: 0.9514\n"
          ],
          "name": "stdout"
        }
      ]
    },
    {
      "cell_type": "code",
      "metadata": {
        "id": "ru8egQdwMRSX"
      },
      "source": [
        "\n",
        "prValues = modelSS.predict(\n",
        "        [\n",
        "            placeTest[-numPredict:],\n",
        "            castTest[-numPredict:],\n",
        "            actionTest[-numPredict:],\n",
        "            audioTest[-numPredict:]\n",
        "        ])"
      ],
      "execution_count": null,
      "outputs": []
    },
    {
      "cell_type": "markdown",
      "metadata": {
        "id": "EvS3tnZDMRSX"
      },
      "source": [
        "# Accuracy and Loss curves"
      ]
    },
    {
      "cell_type": "code",
      "metadata": {
        "id": "otr6nDxKMRSX",
        "colab": {
          "base_uri": "https://localhost:8080/",
          "height": 545
        },
        "outputId": "3b50ed96-95d4-44c1-e645-54250fdaf522"
      },
      "source": [
        "import matplotlib.pyplot as plt\n",
        "\n",
        "acc = history.history['binary_accuracy']\n",
        "val_acc = history.history['val_binary_accuracy']\n",
        "loss = history.history['loss']\n",
        "val_loss = history.history['val_loss']\n",
        "epochs = range(1, len(acc) + 1)\n",
        "plt.plot(epochs, acc, 'b', label='Training acc')\n",
        "plt.plot(epochs, val_acc, 'r', label='Validation acc')\n",
        "plt.title('Training and Validation Accuracy')\n",
        "plt.legend()\n",
        "plt.figure()\n",
        "plt.plot(epochs, loss, 'b', label = 'Training loss')\n",
        "plt.plot(epochs, val_loss, 'r', label = 'Validation loss')\n",
        "plt.title('Training and Validatin Loss')\n",
        "plt.legend()\n",
        "plt.show()"
      ],
      "execution_count": null,
      "outputs": [
        {
          "output_type": "display_data",
          "data": {
            "image/png": "[encoded data removed]",
            "text/plain": [
              "<Figure size 432x288 with 1 Axes>"
            ]
          },
          "metadata": {
            "tags": [],
            "needs_background": "light"
          }
        },
        {
          "output_type": "display_data",
          "data": {
            "image/png": "[encoded data removed]",
            "text/plain": [
              "<Figure size 432x288 with 1 Axes>"
            ]
          },
          "metadata": {
            "tags": [],
            "needs_background": "light"
          }
        }
      ]
    },
    {
      "cell_type": "code",
      "metadata": {
        "id": "sUiCr7-pMRSX"
      },
      "source": [
        "# Make a list of imdb_id and number of shots for each movie\n",
        "lstMovie = list()\n",
        "numShots = list()\n",
        "for key in gt_dict.keys():\n",
        "    lstMovie.append(key)\n",
        "    numShots.append(len(gt_dict[key]))\n",
        "    \n",
        "# Make a separate dictionaries for testing predicted value using CNN & Bi-LSTM\n",
        "prv_dict = dict()\n",
        "test_gt_dict = dict()\n",
        "test_shot_to_end_dict = dict()\n",
        "\n",
        "for i in range(len(prValues)):\n",
        "    prv_dict[lstMovie[i-numPredict]] = prValues[i][:numShots[i-numPredict]]\n",
        "    test_gt_dict[lstMovie[i-numPredict]] = gt_dict[lstMovie[i-numPredict]]\n",
        "    test_shot_to_end_dict[lstMovie[i-numPredict]] = shot_to_end_frame_dict[lstMovie[i-numPredict]]"
      ],
      "execution_count": null,
      "outputs": []
    },
    {
      "cell_type": "markdown",
      "metadata": {
        "id": "PCOzAH_2MRSY"
      },
      "source": [
        "# Get Scores"
      ]
    },
    {
      "cell_type": "code",
      "metadata": {
        "id": "5seBNtY5MRSY"
      },
      "source": [
        "import numpy as np\n",
        "from sklearn.metrics import average_precision_score\n",
        "\n",
        "\n",
        "def calc_ap(gt_dict, pr_dict):\n",
        "    \"\"\"Average Precision (AP) for scene transitions.\n",
        "\n",
        "    Args:\n",
        "        gt_dict: Scene transition ground-truths.\n",
        "        pr_dict: Scene transition predictions.\n",
        "\n",
        "    Returns:\n",
        "        AP, mean AP, and a dict of AP for each movie.\n",
        "    \"\"\"\n",
        "    assert gt_dict.keys() == pr_dict.keys()\n",
        "\n",
        "    AP_dict = dict()\n",
        "    gt = list()\n",
        "    pr = list()\n",
        "    for imdb_id in gt_dict.keys():\n",
        "        AP_dict[imdb_id] = average_precision_score(gt_dict[imdb_id], pr_dict[imdb_id])\n",
        "        gt.append(gt_dict[imdb_id])\n",
        "        pr.append(pr_dict[imdb_id])\n",
        "\n",
        "    mAP = sum(AP_dict.values()) / len(AP_dict)\n",
        "\n",
        "    gt = np.concatenate(gt)\n",
        "    pr = np.concatenate(pr)\n",
        "    AP = average_precision_score(gt, pr)\n",
        "\n",
        "    return AP, mAP, AP_dict\n",
        "\n",
        "\n",
        "def calc_miou(gt_dict, pr_dict, shot_to_end_frame_dict, threshold=0.5):\n",
        "    \"\"\"Maximum IoU (Miou) for scene segmentation.\n",
        "\n",
        "    Miou measures how well the predicted scenes and ground-truth scenes overlap. The descriptions can be found in\n",
        "    https://arxiv.org/pdf/1510.08893.pdf. Note the length of intersection or union is measured by the number of frames.\n",
        "\n",
        "    Args:\n",
        "        gt_dict: Scene transition ground-truths.\n",
        "        pr_dict: Scene transition predictions.\n",
        "        shot_to_end_frame_dict: End frame index for each shot.\n",
        "        threshold: A threshold to filter the predictions.\n",
        "\n",
        "    Returns:\n",
        "        Mean MIoU, and a dict of MIoU for each movie.\n",
        "    \"\"\"\n",
        "    def iou(x, y):\n",
        "        s0, e0 = x\n",
        "        s1, e1 = y\n",
        "        smin, smax = (s0, s1) if s1 > s0 else (s1, s0)\n",
        "        emin, emax = (e0, e1) if e1 > e0 else (e1, e0)\n",
        "        return (emin - smax + 1) / (emax - smin + 1)\n",
        "\n",
        "    def scene_frame_ranges(scene_transitions, shot_to_end_frame):\n",
        "        end_shots = np.where(scene_transitions)[0]\n",
        "        scenes = np.zeros((len(end_shots) + 1, 2), dtype=end_shots.dtype)\n",
        "        scenes[:-1, 1] = shot_to_end_frame[end_shots]\n",
        "        scenes[-1, 1] = shot_to_end_frame[len(scene_transitions)]\n",
        "        scenes[1:, 0] = scenes[:-1, 1] + 1\n",
        "        return scenes\n",
        "\n",
        "    def miou(gt_array, pr_array, shot_to_end_frame):\n",
        "        gt_scenes = scene_frame_ranges(gt_array, shot_to_end_frame)\n",
        "        pr_scenes = scene_frame_ranges(pr_array >= threshold, shot_to_end_frame)\n",
        "        assert gt_scenes[-1, -1] == pr_scenes[-1, -1]\n",
        "\n",
        "        m = gt_scenes.shape[0]\n",
        "        n = pr_scenes.shape[0]\n",
        "\n",
        "        # IoU for (gt_scene, pr_scene) pairs\n",
        "        iou_table = np.zeros((m, n))\n",
        "\n",
        "        j = 0\n",
        "        for i in range(m):\n",
        "            # j start prior to i end\n",
        "            while pr_scenes[j, 0] <= gt_scenes[i, 1]:\n",
        "                iou_table[i, j] = iou(gt_scenes[i], pr_scenes[j])\n",
        "                if j < n - 1:\n",
        "                    j += 1\n",
        "                else:\n",
        "                    break\n",
        "            # j end prior to (i + 1) start\n",
        "            if pr_scenes[j, 1] < gt_scenes[i, 1] + 1:\n",
        "                break\n",
        "            # j start later than (i + 1) start\n",
        "            if pr_scenes[j, 0] > gt_scenes[i, 1] + 1:\n",
        "                j -= 1\n",
        "        assert np.isnan(iou_table).sum() == 0\n",
        "        assert iou_table.min() >= 0\n",
        "\n",
        "        # Miou\n",
        "        return (iou_table.max(axis=0).mean() + iou_table.max(axis=1).mean()) / 2\n",
        "\n",
        "    assert gt_dict.keys() == pr_dict.keys()\n",
        "\n",
        "    miou_dict = dict()\n",
        "\n",
        "    for imdb_id in gt_dict.keys():\n",
        "        miou_dict[imdb_id] = miou(gt_dict[imdb_id], pr_dict[imdb_id], shot_to_end_frame_dict[imdb_id])\n",
        "    mean_miou = sum(miou_dict.values()) / len(miou_dict)\n",
        "\n",
        "    return mean_miou, miou_dict\n",
        "\n",
        "\n",
        "def calc_precision_recall(gt_dict, pr_dict, threshold=0.5):\n",
        "    \"\"\"Precision, Recall and F1 for scene transitions at a given threshold.\n",
        "\n",
        "    Args:\n",
        "        gt_dict: Scene transition ground-truths.\n",
        "        pr_dict: Scene transition predictions.\n",
        "        threshold: A threshold to filter the predictions.\n",
        "    Returns:\n",
        "        Mean Precision, Recall, and F1, per IMDB ID Precisions, Recalls, and F1 scores.\n",
        "    \"\"\"\n",
        "    def precision_recall(gt_array, pr_array):\n",
        "        tp_fn = gt_array == 1\n",
        "        tp_fp = pr_array >= threshold\n",
        "\n",
        "        tps = (tp_fn & tp_fp).sum()\n",
        "\n",
        "        precision = tps / tp_fp.sum()\n",
        "        recall = tps / tp_fn.sum()\n",
        "\n",
        "        return np.nan_to_num(precision), np.nan_to_num(recall)\n",
        "\n",
        "    assert gt_dict.keys() == pr_dict.keys()\n",
        "\n",
        "    precision_dict = dict()\n",
        "    recall_dict = dict()\n",
        "    fscore_dict = dict()\n",
        "\n",
        "    for imdb_id in gt_dict.keys():\n",
        "        p, r = precision_recall(gt_dict[imdb_id], pr_dict[imdb_id])\n",
        "        precision_dict[imdb_id] = p\n",
        "        recall_dict[imdb_id] = r\n",
        "        fscore_dict[imdb_id] = 2 * p * r / (p + r)\n",
        "\n",
        "    n = len(gt_dict)\n",
        "    mean_precision = sum(precision_dict.values()) / n\n",
        "    mean_recall = sum(recall_dict.values()) / n\n",
        "    mean_fscore = sum(fscore_dict.values()) / n\n",
        "\n",
        "    return mean_precision, mean_recall, mean_fscore, precision_dict, recall_dict, fscore_dict"
      ],
      "execution_count": null,
      "outputs": []
    },
    {
      "cell_type": "code",
      "metadata": {
        "id": "syJib-duMRSY",
        "colab": {
          "base_uri": "https://localhost:8080/"
        },
        "outputId": "1f335e54-fc7e-47cd-e2b4-7e6069e8b947"
      },
      "source": [
        "# Get Scores\n",
        "\n",
        "scores = dict()\n",
        "\n",
        "scores[\"AP\"], scores[\"mAP\"], _ = calc_ap(test_gt_dict, prv_dict)\n",
        "scores[\"Miou\"], _ = calc_miou(test_gt_dict, prv_dict, test_shot_to_end_dict)\n",
        "scores[\"Precision\"], scores[\"Recall\"], scores[\"F1\"], *_ = calc_precision_recall(test_gt_dict, prv_dict)\n",
        "\n",
        "print(\"Scores:\", json.dumps(scores, indent=4))"
      ],
      "execution_count": null,
      "outputs": [
        {
          "output_type": "stream",
          "text": [
            "Scores: {\n",
            "    \"AP\": 0.13857276807671093,\n",
            "    \"mAP\": 0.14107670245776366,\n",
            "    \"Miou\": 0.04251314979127279,\n",
            "    \"Precision\": 0.0,\n",
            "    \"Recall\": 0.0,\n",
            "    \"F1\": NaN\n",
            "}\n"
          ],
          "name": "stdout"
        },
        {
          "output_type": "stream",
          "text": [
            "/usr/local/lib/python3.7/dist-packages/ipykernel_launcher.py:123: RuntimeWarning: invalid value encountered in long_scalars\n",
            "/usr/local/lib/python3.7/dist-packages/ipykernel_launcher.py:138: RuntimeWarning: invalid value encountered in double_scalars\n"
          ],
          "name": "stderr"
        }
      ]
    },
    {
      "cell_type": "code",
      "metadata": {
        "id": "0cBlTv51MRSZ",
        "colab": {
          "base_uri": "https://localhost:8080/",
          "height": 265
        },
        "outputId": "70f5611b-0fe8-4aec-8a5f-c87393b0f4b6"
      },
      "source": [
        "key = lstMovie[-1]   \n",
        "plt.plot(prv_dict[key])\n",
        "plt.plot(test_gt_dict[key])\n",
        "plt.show()"
      ],
      "execution_count": null,
      "outputs": [
        {
          "output_type": "display_data",
          "data": {
            "image/png": "[encoded data removed]",
            "text/plain": [
              "<Figure size 432x288 with 1 Axes>"
            ]
          },
          "metadata": {
            "tags": [],
            "needs_background": "light"
          }
        }
      ]
    },
    {
      "cell_type": "code",
      "metadata": {
        "id": "MPjS-MS7MRSZ",
        "colab": {
          "base_uri": "https://localhost:8080/",
          "height": 265
        },
        "outputId": "c4a9c6b8-05b7-4060-e16a-e434738ff07a"
      },
      "source": [
        "key = lstMovie[-2]   \n",
        "plt.plot(prv_dict[key])\n",
        "plt.plot(test_gt_dict[key])\n",
        "plt.show()"
      ],
      "execution_count": null,
      "outputs": [
        {
          "output_type": "display_data",
          "data": {
            "image/png": "[encoded data removed]",
            "text/plain": [
              "<Figure size 432x288 with 1 Axes>"
            ]
          },
          "metadata": {
            "tags": [],
            "needs_background": "light"
          }
        }
      ]
    }
  ]
}